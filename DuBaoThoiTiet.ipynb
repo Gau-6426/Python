{
  "nbformat": 4,
  "nbformat_minor": 0,
  "metadata": {
    "colab": {
      "name": "DuBaoThoiTiet.ipynb",
      "provenance": [],
      "collapsed_sections": [],
      "authorship_tag": "ABX9TyOfzDclV8qxCjQ9Xh4Om8qe",
      "include_colab_link": true
    },
    "kernelspec": {
      "name": "python3",
      "display_name": "Python 3"
    },
    "language_info": {
      "name": "python"
    }
  },
  "cells": [
    {
      "cell_type": "markdown",
      "metadata": {
        "id": "view-in-github",
        "colab_type": "text"
      },
      "source": [
        "<a href=\"https://colab.research.google.com/github/Gau-6426/Python/blob/main/DuBaoThoiTiet.ipynb\" target=\"_parent\"><img src=\"https://colab.research.google.com/assets/colab-badge.svg\" alt=\"Open In Colab\"/></a>"
      ]
    },
    {
      "cell_type": "code",
      "metadata": {
        "id": "76zgeT0Ob4Sz"
      },
      "source": [
        "import pandas as pd"
      ],
      "execution_count": 176,
      "outputs": []
    },
    {
      "cell_type": "code",
      "metadata": {
        "id": "yQv55SR_cHEx",
        "colab": {
          "base_uri": "https://localhost:8080/"
        },
        "outputId": "4f0bc4f5-f5e8-4b57-8e72-e10bdb99b086"
      },
      "source": [
        "print('{:^85}'.format(\"==== THÔNG TIN THỜI TIẾT NGÀY 28/08/2021 ====\"))"
      ],
      "execution_count": 177,
      "outputs": [
        {
          "output_type": "stream",
          "name": "stdout",
          "text": [
            "                    ==== THÔNG TIN THỜI TIẾT NGÀY 28/08/2021 ====                    \n"
          ]
        }
      ]
    },
    {
      "cell_type": "code",
      "metadata": {
        "id": "zuzoNi4kcLMC"
      },
      "source": [
        "dulieucambien = pd.read_csv(\"https://raw.githubusercontent.com/Gau-6426/Python/main/DuLieuCamBien.csv\")"
      ],
      "execution_count": 178,
      "outputs": []
    },
    {
      "cell_type": "code",
      "metadata": {
        "id": "fa4jK8dKgUqn",
        "colab": {
          "base_uri": "https://localhost:8080/"
        },
        "outputId": "e72c8585-0dab-400b-99c6-21ab40cd0359"
      },
      "source": [
        "column_names=[\"Time\", \"Nhiệt độ\", \"Độ ẩm\"]\n",
        "dulieucambien = pd.read_csv('https://raw.githubusercontent.com/Gau-6426/Python/main/DuLieuCamBien.csv', names = column_names)\n",
        "print(dulieucambien)"
      ],
      "execution_count": 179,
      "outputs": [
        {
          "output_type": "stream",
          "name": "stdout",
          "text": [
            "     Time Nhiệt độ  Độ ẩm\n",
            "0   00:00    22 ^C   80 %\n",
            "1   01:00    22 ^C   90 %\n",
            "2   02:00    23 ^C   85 %\n",
            "3     NaN      NaN    NaN\n",
            "4   04:00    24 ^C   88 %\n",
            "5   05:00    28 ^C   85 %\n",
            "6   06:00    29 ^C   86 %\n",
            "7     NaN      NaN    NaN\n",
            "8   08:00    30 ^C   80 %\n",
            "9   09:00    31 ^C   81 %\n",
            "10  10:00    31 ^C   79 %\n",
            "11  11:00    32 ^C   77 %\n",
            "12  12:00    33 ^C   75 %\n",
            "13      ?        ?      ?\n",
            "14      ?        ?      ?\n",
            "15  14:00    34 ^C   70 %\n",
            "16  15:00    33 ^C   80 %\n",
            "17  16:00    33 ^C   80 %\n",
            "18  17:00    31 ^C   80 %\n",
            "19  18:00    31 ^C   80 %\n",
            "20      ?        ?      ?\n",
            "21  19:00    30 ^C   80 %\n",
            "22  20:00    29 ^C   85 %\n",
            "23  21:00    29 ^C   80 %\n",
            "24  22:00    28 ^C   87 %\n",
            "25  23:00    26 ^C   90 %\n",
            "26    NaN      NaN    NaN\n"
          ]
        }
      ]
    },
    {
      "cell_type": "code",
      "metadata": {
        "id": "QI-rEieHqrS3"
      },
      "source": [
        "dulieucambien[['Cs/nhiệt độ','Đơn vị']]=dulieucambien['Nhiệt độ'].str.split(expand=True)"
      ],
      "execution_count": 180,
      "outputs": []
    },
    {
      "cell_type": "code",
      "metadata": {
        "colab": {
          "base_uri": "https://localhost:8080/"
        },
        "id": "svTzHfiYghTi",
        "outputId": "023d8e71-d60a-4742-8d87-5238d88f86bd"
      },
      "source": [
        "dulieucambien = dulieucambien.drop('Nhiệt độ',axis=1)\n",
        "dulieucambien = dulieucambien.drop('Đơn vị',axis=1)\n",
        "print(dulieucambien)"
      ],
      "execution_count": 174,
      "outputs": [
        {
          "output_type": "stream",
          "name": "stdout",
          "text": [
            "     Time  Độ ẩm Cs/nhiệt độ\n",
            "0   00:00   80 %          22\n",
            "1   01:00   90 %          22\n",
            "2   02:00   85 %          23\n",
            "3     NaN    NaN         NaN\n",
            "4   04:00   88 %          24\n",
            "5   05:00   85 %          28\n",
            "6   06:00   86 %          29\n",
            "7     NaN    NaN         NaN\n",
            "8   08:00   80 %          30\n",
            "9   09:00   81 %          31\n",
            "10  10:00   79 %          31\n",
            "11  11:00   77 %          32\n",
            "12  12:00   75 %          33\n",
            "13      ?      ?           ?\n",
            "14      ?      ?           ?\n",
            "15  14:00   70 %          34\n",
            "16  15:00   80 %          33\n",
            "17  16:00   80 %          33\n",
            "18  17:00   80 %          31\n",
            "19  18:00   80 %          31\n",
            "20      ?      ?           ?\n",
            "21  19:00   80 %          30\n",
            "22  20:00   85 %          29\n",
            "23  21:00   80 %          29\n",
            "24  22:00   87 %          28\n",
            "25  23:00   90 %          26\n",
            "26    NaN    NaN         NaN\n"
          ]
        }
      ]
    },
    {
      "cell_type": "code",
      "metadata": {
        "colab": {
          "base_uri": "https://localhost:8080/",
          "height": 288
        },
        "id": "1WGruzkwvmoP",
        "outputId": "d165604c-7fba-4c19-c113-36d8a875f974"
      },
      "source": [
        "print(int(dulieucambien['Cs/nhiệt độ']))"
      ],
      "execution_count": 175,
      "outputs": [
        {
          "output_type": "error",
          "ename": "TypeError",
          "evalue": "ignored",
          "traceback": [
            "\u001b[0;31m---------------------------------------------------------------------------\u001b[0m",
            "\u001b[0;31mTypeError\u001b[0m                                 Traceback (most recent call last)",
            "\u001b[0;32m<ipython-input-175-3a82fd0a5eac>\u001b[0m in \u001b[0;36m<module>\u001b[0;34m()\u001b[0m\n\u001b[0;32m----> 1\u001b[0;31m \u001b[0mprint\u001b[0m\u001b[0;34m(\u001b[0m\u001b[0mint\u001b[0m\u001b[0;34m(\u001b[0m\u001b[0mdulieucambien\u001b[0m\u001b[0;34m[\u001b[0m\u001b[0;34m'Cs/nhiệt độ'\u001b[0m\u001b[0;34m]\u001b[0m\u001b[0;34m)\u001b[0m\u001b[0;34m)\u001b[0m\u001b[0;34m\u001b[0m\u001b[0;34m\u001b[0m\u001b[0m\n\u001b[0m",
            "\u001b[0;32m/usr/local/lib/python3.7/dist-packages/pandas/core/series.py\u001b[0m in \u001b[0;36mwrapper\u001b[0;34m(self)\u001b[0m\n\u001b[1;32m    127\u001b[0m         \u001b[0;32mif\u001b[0m \u001b[0mlen\u001b[0m\u001b[0;34m(\u001b[0m\u001b[0mself\u001b[0m\u001b[0;34m)\u001b[0m \u001b[0;34m==\u001b[0m \u001b[0;36m1\u001b[0m\u001b[0;34m:\u001b[0m\u001b[0;34m\u001b[0m\u001b[0;34m\u001b[0m\u001b[0m\n\u001b[1;32m    128\u001b[0m             \u001b[0;32mreturn\u001b[0m \u001b[0mconverter\u001b[0m\u001b[0;34m(\u001b[0m\u001b[0mself\u001b[0m\u001b[0;34m.\u001b[0m\u001b[0miloc\u001b[0m\u001b[0;34m[\u001b[0m\u001b[0;36m0\u001b[0m\u001b[0;34m]\u001b[0m\u001b[0;34m)\u001b[0m\u001b[0;34m\u001b[0m\u001b[0;34m\u001b[0m\u001b[0m\n\u001b[0;32m--> 129\u001b[0;31m         \u001b[0;32mraise\u001b[0m \u001b[0mTypeError\u001b[0m\u001b[0;34m(\u001b[0m\u001b[0;34mf\"cannot convert the series to {converter}\"\u001b[0m\u001b[0;34m)\u001b[0m\u001b[0;34m\u001b[0m\u001b[0;34m\u001b[0m\u001b[0m\n\u001b[0m\u001b[1;32m    130\u001b[0m \u001b[0;34m\u001b[0m\u001b[0m\n\u001b[1;32m    131\u001b[0m     \u001b[0mwrapper\u001b[0m\u001b[0;34m.\u001b[0m\u001b[0m__name__\u001b[0m \u001b[0;34m=\u001b[0m \u001b[0;34mf\"__{converter.__name__}__\"\u001b[0m\u001b[0;34m\u001b[0m\u001b[0;34m\u001b[0m\u001b[0m\n",
            "\u001b[0;31mTypeError\u001b[0m: cannot convert the series to <class 'int'>"
          ]
        }
      ]
    }
  ]
}