{
  "nbformat": 4,
  "nbformat_minor": 0,
  "metadata": {
    "colab": {
      "name": "DuBaoThoiTiet.ipynb",
      "provenance": [],
      "collapsed_sections": [],
      "authorship_tag": "ABX9TyPr9037tP/OS9w+fbIeqlTp",
      "include_colab_link": true
    },
    "kernelspec": {
      "name": "python3",
      "display_name": "Python 3"
    },
    "language_info": {
      "name": "python"
    }
  },
  "cells": [
    {
      "cell_type": "markdown",
      "metadata": {
        "id": "view-in-github",
        "colab_type": "text"
      },
      "source": [
        "<a href=\"https://colab.research.google.com/github/Gau-6426/Python/blob/main/DuBaoThoiTiet.ipynb\" target=\"_parent\"><img src=\"https://colab.research.google.com/assets/colab-badge.svg\" alt=\"Open In Colab\"/></a>"
      ]
    },
    {
      "cell_type": "code",
      "metadata": {
        "id": "76zgeT0Ob4Sz"
      },
      "source": [
        "import pandas as pd"
      ],
      "execution_count": 23,
      "outputs": []
    },
    {
      "cell_type": "code",
      "metadata": {
        "id": "yQv55SR_cHEx",
        "outputId": "2fc52e2f-a130-408a-f307-4664b43e6aca",
        "colab": {
          "base_uri": "https://localhost:8080/"
        }
      },
      "source": [
        "print('{:^85}'.format(\"==== THÔNG TIN THỜI TIẾT NGÀY 28/08/2021 ====\"))"
      ],
      "execution_count": 24,
      "outputs": [
        {
          "output_type": "stream",
          "name": "stdout",
          "text": [
            "                    ==== THÔNG TIN THỜI TIẾT NGÀY 28/08/2021 ====                    \n"
          ]
        }
      ]
    },
    {
      "cell_type": "code",
      "metadata": {
        "colab": {
          "base_uri": "https://localhost:8080/"
        },
        "id": "zuzoNi4kcLMC",
        "outputId": "8569c0e0-eb81-4f50-f025-4719aaa52396"
      },
      "source": [
        "dulieucambien = pd.read_csv(\"https://raw.githubusercontent.com/Gau-6426/Python/main/DuLieuCamBien.csv\")\n",
        "print (dulieucambien)"
      ],
      "execution_count": 29,
      "outputs": [
        {
          "output_type": "stream",
          "name": "stdout",
          "text": [
            "    00:00   22 ^C   80%\n",
            "0   01:00   22 ^C   90%\n",
            "1   02:00   23 ^C   85%\n",
            "2     NaN     NaN   NaN\n",
            "3   04:00   24 ^C   88%\n",
            "4   05:00   28 ^C   85%\n",
            "5   06:00   29 ^C   86%\n",
            "6     NaN     NaN   NaN\n",
            "7   08:00   30 ^C   80%\n",
            "8   09:00   31 ^C   81%\n",
            "9   10:00   31 ^C   79%\n",
            "10  11:00   32 ^C   77%\n",
            "11  12:00   33 ^C   75%\n",
            "12      ?       ?     ?\n",
            "13      ?       ?     ?\n",
            "14  14:00   34 ^C   70%\n",
            "15  15:00   33 ^C   80%\n",
            "16  16:00   33 ^C   80%\n",
            "17  17:00   31 ^C   80%\n",
            "18  18:00   31 ^C   80%\n",
            "19      ?       ?     ?\n",
            "20  19:00   30 ^C   80%\n",
            "21  20:00   29 ^C   85%\n",
            "22  21:00   29 ^C   80%\n",
            "23  22:00   28 ^C   87%\n",
            "24  23:00   26 ^C   90%\n",
            "25    NaN     NaN   NaN\n"
          ]
        }
      ]
    },
    {
      "cell_type": "code",
      "metadata": {
        "id": "fa4jK8dKgUqn",
        "outputId": "ab124f64-1b9e-4753-923b-0e2dde6a2f79",
        "colab": {
          "base_uri": "https://localhost:8080/"
        }
      },
      "source": [
        "column_names=[\"Time\", \"Nhiệt độ\", \"Độ ẩm\"]\n",
        "dulieucambien = pd.read_csv('https://raw.githubusercontent.com/Gau-6426/Python/main/DuLieuCamBien.csv', names = column_names)\n",
        "print(dulieucambien)"
      ],
      "execution_count": 32,
      "outputs": [
        {
          "output_type": "stream",
          "name": "stdout",
          "text": [
            "     Time Nhiệt độ Độ ẩm\n",
            "0   00:00    22 ^C   80%\n",
            "1   01:00    22 ^C   90%\n",
            "2   02:00    23 ^C   85%\n",
            "3     NaN      NaN   NaN\n",
            "4   04:00    24 ^C   88%\n",
            "5   05:00    28 ^C   85%\n",
            "6   06:00    29 ^C   86%\n",
            "7     NaN      NaN   NaN\n",
            "8   08:00    30 ^C   80%\n",
            "9   09:00    31 ^C   81%\n",
            "10  10:00    31 ^C   79%\n",
            "11  11:00    32 ^C   77%\n",
            "12  12:00    33 ^C   75%\n",
            "13      ?        ?     ?\n",
            "14      ?        ?     ?\n",
            "15  14:00    34 ^C   70%\n",
            "16  15:00    33 ^C   80%\n",
            "17  16:00    33 ^C   80%\n",
            "18  17:00    31 ^C   80%\n",
            "19  18:00    31 ^C   80%\n",
            "20      ?        ?     ?\n",
            "21  19:00    30 ^C   80%\n",
            "22  20:00    29 ^C   85%\n",
            "23  21:00    29 ^C   80%\n",
            "24  22:00    28 ^C   87%\n",
            "25  23:00    26 ^C   90%\n",
            "26    NaN      NaN   NaN\n"
          ]
        }
      ]
    },
    {
      "cell_type": "code",
      "metadata": {
        "id": "20CUjd_bguJa",
        "outputId": "65657f84-b844-4743-ddbb-eae952084b9b",
        "colab": {
          "base_uri": "https://localhost:8080/",
          "height": 328
        }
      },
      "source": [
        "dulieucambien[['Số Nhiệt', 'đơn vị']]=dulieucambien['Nhiệt độ'].str.split(expand = True)\n",
        "print(dulieucambien)"
      ],
      "execution_count": 38,
      "outputs": [
        {
          "output_type": "error",
          "ename": "ValueError",
          "evalue": "ignored",
          "traceback": [
            "\u001b[0;31m---------------------------------------------------------------------------\u001b[0m",
            "\u001b[0;31mValueError\u001b[0m                                Traceback (most recent call last)",
            "\u001b[0;32m<ipython-input-38-18da39257674>\u001b[0m in \u001b[0;36m<module>\u001b[0;34m()\u001b[0m\n\u001b[0;32m----> 1\u001b[0;31m \u001b[0mdulieucambien\u001b[0m\u001b[0;34m[\u001b[0m\u001b[0;34m[\u001b[0m\u001b[0;34m'Số Nhiệt'\u001b[0m\u001b[0;34m,\u001b[0m \u001b[0;34m'đơn vị'\u001b[0m\u001b[0;34m]\u001b[0m\u001b[0;34m]\u001b[0m\u001b[0;34m=\u001b[0m\u001b[0mdulieucambien\u001b[0m\u001b[0;34m[\u001b[0m\u001b[0;34m'Nhiệt độ'\u001b[0m\u001b[0;34m]\u001b[0m\u001b[0;34m.\u001b[0m\u001b[0mstr\u001b[0m\u001b[0;34m.\u001b[0m\u001b[0msplit\u001b[0m\u001b[0;34m(\u001b[0m\u001b[0mexpand\u001b[0m \u001b[0;34m=\u001b[0m \u001b[0;32mTrue\u001b[0m\u001b[0;34m)\u001b[0m\u001b[0;34m\u001b[0m\u001b[0;34m\u001b[0m\u001b[0m\n\u001b[0m\u001b[1;32m      2\u001b[0m \u001b[0mprint\u001b[0m\u001b[0;34m(\u001b[0m\u001b[0mdulieucambien\u001b[0m\u001b[0;34m)\u001b[0m\u001b[0;34m\u001b[0m\u001b[0;34m\u001b[0m\u001b[0m\n",
            "\u001b[0;32m/usr/local/lib/python3.7/dist-packages/pandas/core/frame.py\u001b[0m in \u001b[0;36m__setitem__\u001b[0;34m(self, key, value)\u001b[0m\n\u001b[1;32m   3039\u001b[0m             \u001b[0mself\u001b[0m\u001b[0;34m.\u001b[0m\u001b[0m_setitem_frame\u001b[0m\u001b[0;34m(\u001b[0m\u001b[0mkey\u001b[0m\u001b[0;34m,\u001b[0m \u001b[0mvalue\u001b[0m\u001b[0;34m)\u001b[0m\u001b[0;34m\u001b[0m\u001b[0;34m\u001b[0m\u001b[0m\n\u001b[1;32m   3040\u001b[0m         \u001b[0;32melif\u001b[0m \u001b[0misinstance\u001b[0m\u001b[0;34m(\u001b[0m\u001b[0mkey\u001b[0m\u001b[0;34m,\u001b[0m \u001b[0;34m(\u001b[0m\u001b[0mSeries\u001b[0m\u001b[0;34m,\u001b[0m \u001b[0mnp\u001b[0m\u001b[0;34m.\u001b[0m\u001b[0mndarray\u001b[0m\u001b[0;34m,\u001b[0m \u001b[0mlist\u001b[0m\u001b[0;34m,\u001b[0m \u001b[0mIndex\u001b[0m\u001b[0;34m)\u001b[0m\u001b[0;34m)\u001b[0m\u001b[0;34m:\u001b[0m\u001b[0;34m\u001b[0m\u001b[0;34m\u001b[0m\u001b[0m\n\u001b[0;32m-> 3041\u001b[0;31m             \u001b[0mself\u001b[0m\u001b[0;34m.\u001b[0m\u001b[0m_setitem_array\u001b[0m\u001b[0;34m(\u001b[0m\u001b[0mkey\u001b[0m\u001b[0;34m,\u001b[0m \u001b[0mvalue\u001b[0m\u001b[0;34m)\u001b[0m\u001b[0;34m\u001b[0m\u001b[0;34m\u001b[0m\u001b[0m\n\u001b[0m\u001b[1;32m   3042\u001b[0m         \u001b[0;32melse\u001b[0m\u001b[0;34m:\u001b[0m\u001b[0;34m\u001b[0m\u001b[0;34m\u001b[0m\u001b[0m\n\u001b[1;32m   3043\u001b[0m             \u001b[0;31m# set column\u001b[0m\u001b[0;34m\u001b[0m\u001b[0;34m\u001b[0m\u001b[0;34m\u001b[0m\u001b[0m\n",
            "\u001b[0;32m/usr/local/lib/python3.7/dist-packages/pandas/core/frame.py\u001b[0m in \u001b[0;36m_setitem_array\u001b[0;34m(self, key, value)\u001b[0m\n\u001b[1;32m   3065\u001b[0m             \u001b[0;32mif\u001b[0m \u001b[0misinstance\u001b[0m\u001b[0;34m(\u001b[0m\u001b[0mvalue\u001b[0m\u001b[0;34m,\u001b[0m \u001b[0mDataFrame\u001b[0m\u001b[0;34m)\u001b[0m\u001b[0;34m:\u001b[0m\u001b[0;34m\u001b[0m\u001b[0;34m\u001b[0m\u001b[0m\n\u001b[1;32m   3066\u001b[0m                 \u001b[0;32mif\u001b[0m \u001b[0mlen\u001b[0m\u001b[0;34m(\u001b[0m\u001b[0mvalue\u001b[0m\u001b[0;34m.\u001b[0m\u001b[0mcolumns\u001b[0m\u001b[0;34m)\u001b[0m \u001b[0;34m!=\u001b[0m \u001b[0mlen\u001b[0m\u001b[0;34m(\u001b[0m\u001b[0mkey\u001b[0m\u001b[0;34m)\u001b[0m\u001b[0;34m:\u001b[0m\u001b[0;34m\u001b[0m\u001b[0;34m\u001b[0m\u001b[0m\n\u001b[0;32m-> 3067\u001b[0;31m                     \u001b[0;32mraise\u001b[0m \u001b[0mValueError\u001b[0m\u001b[0;34m(\u001b[0m\u001b[0;34m\"Columns must be same length as key\"\u001b[0m\u001b[0;34m)\u001b[0m\u001b[0;34m\u001b[0m\u001b[0;34m\u001b[0m\u001b[0m\n\u001b[0m\u001b[1;32m   3068\u001b[0m                 \u001b[0;32mfor\u001b[0m \u001b[0mk1\u001b[0m\u001b[0;34m,\u001b[0m \u001b[0mk2\u001b[0m \u001b[0;32min\u001b[0m \u001b[0mzip\u001b[0m\u001b[0;34m(\u001b[0m\u001b[0mkey\u001b[0m\u001b[0;34m,\u001b[0m \u001b[0mvalue\u001b[0m\u001b[0;34m.\u001b[0m\u001b[0mcolumns\u001b[0m\u001b[0;34m)\u001b[0m\u001b[0;34m:\u001b[0m\u001b[0;34m\u001b[0m\u001b[0;34m\u001b[0m\u001b[0m\n\u001b[1;32m   3069\u001b[0m                     \u001b[0mself\u001b[0m\u001b[0;34m[\u001b[0m\u001b[0mk1\u001b[0m\u001b[0;34m]\u001b[0m \u001b[0;34m=\u001b[0m \u001b[0mvalue\u001b[0m\u001b[0;34m[\u001b[0m\u001b[0mk2\u001b[0m\u001b[0;34m]\u001b[0m\u001b[0;34m\u001b[0m\u001b[0;34m\u001b[0m\u001b[0m\n",
            "\u001b[0;31mValueError\u001b[0m: Columns must be same length as key"
          ]
        }
      ]
    },
    {
      "cell_type": "code",
      "metadata": {
        "id": "sbVtxYWMhD30"
      },
      "source": [
        "# Xóa"
      ],
      "execution_count": null,
      "outputs": []
    }
  ]
}