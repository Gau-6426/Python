{
  "nbformat": 4,
  "nbformat_minor": 0,
  "metadata": {
    "colab": {
      "name": "Untitled1.ipynb",
      "provenance": [],
      "authorship_tag": "ABX9TyMZHzoW9lI1mKen5pdvAYKX",
      "include_colab_link": true
    },
    "kernelspec": {
      "name": "python3",
      "display_name": "Python 3"
    },
    "language_info": {
      "name": "python"
    }
  },
  "cells": [
    {
      "cell_type": "markdown",
      "metadata": {
        "id": "view-in-github",
        "colab_type": "text"
      },
      "source": [
        "<a href=\"https://colab.research.google.com/github/Gau-6426/Python/blob/main/Untitled1.ipynb\" target=\"_parent\"><img src=\"https://colab.research.google.com/assets/colab-badge.svg\" alt=\"Open In Colab\"/></a>"
      ]
    },
    {
      "cell_type": "markdown",
      "metadata": {
        "id": "s5iD1CKcXk7h"
      },
      "source": [
        "Cho một chuỗi sau \"Welcome to Vietnam\"\n",
        "Hãy viết chương trình Python thực hiện các chương trình sau\n",
        "1. xuất toàn chuỗi đã cho\n",
        "2. xuất tất cả các vị trí đã cho từ 4-7\n",
        "3. Hãy chuyển cái chuỗi đã cho thành cái chuỗi mới viết hoa toàn bộ kí tự mới\n",
        "4. Kiểm tra xem có kí tự a nào nằm trong chuỗi hay ko nếu có xuất ra màn hình số lượng của ký tự a trong chuỗi. Nếu ko xuất ra kí tự a ko ở trong chuỗi đã cho\n",
        "5. Hãy sử dụng định dạng format chuỗi, để thêm một cái chuỗi mới nhập từ bàn phím của ng dùng.\n",
        "6. Hãy xuất ra màn hình một cái bảng danh sách các ký tự và vị trí index của nó trong cái chuỗi đã cho\n",
        "7. Hãy tách các chuỗi đã cho thành các chuỗi con\n"
      ]
    },
    {
      "cell_type": "markdown",
      "metadata": {
        "id": "U1eJeJBlnSoU"
      },
      "source": [
        "viết 1 chương trình python để kt tính hợp lệ mật khẩu từ bàn phím người dùng\n",
        "1. độ dài mật khẩu tối thiểu là 15 tối đa là 18\n",
        "2. có ít nhất 1 ký tự viết a-z\n",
        "3. có ít nhất 1 ký tự từ A-Z\n",
        "4. Có một ký tự đặc biệt nằm trong list sau [@ # $ &]\n",
        "5. Mật khẩu không được chứa mãng sau [quynh, nguyen, hai, anh, nhan]\n",
        "Lưu ý người dùng không thỏa điều kiện nào báo cho người dùng nhập lại\n",
        "\n",
        "\"\"\"Cho chuỗi sau \"A string is a sequence of characters\"\n",
        "\n",
        "a) xuất nguyên chuỗi ra màn hình\n",
        "\n",
        "b) đếm số lượng kí tự có trong chuỗi đó, dk: ko tính khoảng trắng\n",
        "\n",
        "c)xuất ra danh sách vị trí index của tất cả các kí tự có trong chuỗi\n",
        "\n",
        "d) sử sụng pp in, not in để kiểm tra xem 1 hoặc một vài kí tự được người \n",
        "dùng nhập từ bàn phím có tồn tại trong chuỗi đã cho hay không\n",
        "\n",
        "e) hãy thay thế cái A string thanh chuỗi mới thành the string = phương pháp replace \n",
        "tiếp đến \n",
        "\n",
        "hãy dùng pp format để xáo trộn vị trí của\n",
        "Quynh Nguyen16:12\n",
        "\n",
        "f) Hãy xuất ra màn hình những kí tự từ vị trí số 6 đến vị trí số -2\n",
        "\n",
        "g) Hãy xuất ra màn hình các chuỗi kí tự từ vị trí -1 đến 5 với bước nhảy là 3 \"\"\"\n",
        "\n",
        "\n",
        "\n",
        "\n"
      ]
    },
    {
      "cell_type": "code",
      "metadata": {
        "id": "FVg1MylmlQbC"
      },
      "source": [
        "#a\n",
        "chuoi = \"A string is a sequence of characters\"\n",
        "print(chuoi[::])\n",
        "\n",
        "#b\n",
        "print(len(chuoi.split()))\n",
        "\n",
        "#c\n",
        "str = chuoi.split(\" \")\n",
        "print(str)\n",
        "\n",
        "#d\n",
        "x = input(\"Nhập kí tự:\")\n",
        "if (x in chuoi):\n",
        "    print(\"true\")\n",
        "else: \n",
        "    print(\"false\")\n",
        "\n",
        "#e\n",
        "print(chuoi.replace(\"A string\", \"The string\"))\n",
        "\n",
        "#f\n",
        "print(chuoi[6:-2])\n",
        "\n",
        "#g\n",
        "print(chuoi[:5:-1:3])\n"
      ],
      "execution_count": null,
      "outputs": []
    },
    {
      "cell_type": "code",
      "metadata": {
        "id": "EF90Cjg_apCH",
        "colab": {
          "base_uri": "https://localhost:8080/"
        },
        "outputId": "02f635f3-6a5a-4b5f-b537-85b3eba60acc"
      },
      "source": [
        "import re\n",
        "password=[x for x in input(\"Nhập mật khẩu: \").split(',')]\n",
        "\n",
        "for p in password:\n",
        "  if len(p)<15 or len(p)>18:\n",
        "    print(\"Mật khẩu có độ dài tối thiểu là 15 tối đa là 18\")\n",
        "  else:\n",
        "    print(\"Mật khẩu hợp lệ\")\n",
        "    pass\n",
        "\n",
        "  if not re.search(\"[a-z]\",p):\n",
        "    print(\"Mật khẩu không có ký tự viết thường (a-z)\")\n",
        "  else:  \n",
        "    print(\"Mật khẩu hợp lệ\")\n",
        "    pass\n",
        "\n",
        "  if not re.search(\"[A-Z]\",p):\n",
        "    print(\"Mật khẩu không có ký tự viết in hoa (A-Z)\")\n",
        "  else:  \n",
        "    print(\"Mật khẩu hợp lệ\")\n",
        "    pass\n",
        "\n",
        "  if not re.search(\"[@#$&]\",p):\n",
        "    print(\"Mật khẩu không có ký tự đặt biệt (@ # $ &)\") \n",
        "  else:\n",
        "    print(\"Mật khẩu hợp lệ\") \n",
        "    pass\n",
        "\n",
        "  if re.search(\"[quynh, nguyen, hai, anh, nhan] \",p):\n",
        "    print(\"Mật khẩu chứa từ khóa trong chuỗi [quynh, nguyen, hai, anh, nhan]\")\n",
        "  else:\n",
        "    print(\"Mật khẩu hợp lệ\")\n",
        "  break\n"
      ],
      "execution_count": null,
      "outputs": [
        {
          "output_type": "stream",
          "name": "stdout",
          "text": [
            "Nhập mật khẩu: nhan\n",
            "Mật khẩu có độ dài tối thiểu là 15 tối đa là 18\n",
            "Mật khẩu hợp lệ\n",
            "Mật khẩu không có ký tự viết in hoa (A-Z)\n",
            "Mật khẩu không có ký tự đặt biệt (@ # $ &)\n",
            "Mật khẩu hợp lệ\n"
          ]
        }
      ]
    },
    {
      "cell_type": "code",
      "metadata": {
        "id": "07Y4DjdKk9N2"
      },
      "source": [
        "#Code bài một tham khảo\n",
        "import string\n",
        "import re\n",
        "password = input(\"Please input your pass: \")\n",
        "if (len(password) > 8 and len(password) < 13):\n",
        "  print('Mật khẩu hợp lệ điều kiện 1')\n",
        "else:\n",
        "  print('Mật khẩu không hợp lệ điều kiện 1')\n",
        "  pass\n",
        "  \n",
        "for i in password:\n",
        "  if not re.search(\"[a-z]\",i):\n",
        "    print('Mật khẩu không hợp lệ điều kiện 2')\n",
        "  else:\n",
        "    print('Mật khẩu hợp lệ điều kiện 2')\n",
        "    pass\n",
        "    \n",
        "  if not re.search(\"[A-Z]\",i):\n",
        "    print ('Mật khẩu không hợp lệ điều kiện 3')\n",
        "  else:\n",
        "    print('Mật khẩu hợp lệ điều kiện 3')\n",
        "    pass\n",
        "\n",
        "  if not re.search(\"[@#$&]\",i):\n",
        "    print ('Mật khẩu không hợp lệ điều kiện 4')\n",
        "  else:\n",
        "    print('Mật khẩu hợp lệ điều kiện 4')\n",
        "    pass\n",
        "\n",
        "  if not re.search(\"[0-9]\",i):\n",
        "    print('Mật khẩu không hợp lệ điều kiện 5')\n",
        "  else:\n",
        "    print('Mật khẩu hợp lệ điều kiện 5')\n",
        "    pass"
      ],
      "execution_count": null,
      "outputs": []
    },
    {
      "cell_type": "markdown",
      "metadata": {
        "id": "GYAlsTGc5dNp"
      },
      "source": [
        "Đề 1: Viết một chương trình Python, để xuất ra danh sách các chữ số chia hết cho 2 và chia hết cho 5 trong đoạn [70 - 250]. Tính luôn cả 70 và 250."
      ]
    },
    {
      "cell_type": "code",
      "metadata": {
        "id": "DuY_nZdKKrtZ",
        "outputId": "8b6198e0-d9bd-4a6d-e2e7-db5ecca364b8",
        "colab": {
          "base_uri": "https://localhost:8080/"
        }
      },
      "source": [
        "ketqua = []\n",
        "for i in range (70, 250):\n",
        "  if (i%2==0) and (i%5==0):\n",
        "    ketqua.append(str(i))\n",
        "print(','.join(ketqua))"
      ],
      "execution_count": 3,
      "outputs": [
        {
          "output_type": "stream",
          "name": "stdout",
          "text": [
            "70,80,90,100,110,120,130,140,150,160,170,180,190,200,210,220,230,240\n"
          ]
        }
      ]
    },
    {
      "cell_type": "markdown",
      "metadata": {
        "id": "r_xBESMnMoFj"
      },
      "source": [
        "Đề 2: Viết một chương trình Python để kiểm tra một số được nhập từ bàn phím người dùng có phải là số nguyên hay không? Số nguyên bao gồm cả số nguyên âm và nguyên dương."
      ]
    },
    {
      "cell_type": "code",
      "metadata": {
        "id": "vh7VQQGPMD7l",
        "outputId": "418f94b1-983a-4aa7-bb56-05e1b696c2cd",
        "colab": {
          "base_uri": "https://localhost:8080/"
        }
      },
      "source": [
        "num = int(input(\"Nhap so bat ki: \"))\n",
        "print(isinstance(num,int))"
      ],
      "execution_count": 24,
      "outputs": [
        {
          "output_type": "stream",
          "name": "stdout",
          "text": [
            "Nhap so bat ki: -5\n",
            "True\n"
          ]
        }
      ]
    },
    {
      "cell_type": "markdown",
      "metadata": {
        "id": "VU1daUdZYUAU"
      },
      "source": [
        "Đề 3: Cho chuỗi s = ['Tôi năm nay 25 tuổi, tôi đã có chồng năm 21 tuổi và hiện tại tôi có một đứa con trai và hai đứa con gái']. Viết một chương trình Python để tính tổng của những con số xuất hiện trong chuỗi trên và cho biết cô gái đó sinh năm bao nhiêu?"
      ]
    },
    {
      "cell_type": "code",
      "metadata": {
        "id": "xKgAQh80YTbW"
      },
      "source": [
        "s = ['Tôi năm nay 25 tuổi, tôi đã có chồng năm 21 tuổi và hiện tại tôi có một đứa con trai và hai đứa con gái']\n"
      ],
      "execution_count": null,
      "outputs": []
    }
  ]
}