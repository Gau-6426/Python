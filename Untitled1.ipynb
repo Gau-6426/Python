{
  "nbformat": 4,
  "nbformat_minor": 0,
  "metadata": {
    "colab": {
      "name": "Untitled1.ipynb",
      "provenance": [],
      "authorship_tag": "ABX9TyNjkD3T4S52rBvboQCtK4lS",
      "include_colab_link": true
    },
    "kernelspec": {
      "name": "python3",
      "display_name": "Python 3"
    },
    "language_info": {
      "name": "python"
    }
  },
  "cells": [
    {
      "cell_type": "markdown",
      "metadata": {
        "id": "view-in-github",
        "colab_type": "text"
      },
      "source": [
        "<a href=\"https://colab.research.google.com/github/Gau-6426/Python/blob/main/Untitled1.ipynb\" target=\"_parent\"><img src=\"https://colab.research.google.com/assets/colab-badge.svg\" alt=\"Open In Colab\"/></a>"
      ]
    },
    {
      "cell_type": "markdown",
      "metadata": {
        "id": "s5iD1CKcXk7h"
      },
      "source": [
        "Cho một chuỗi sau \"Welcome to Vietnam\"\n",
        "Hãy viết chương trình Python thực hiện các chương trình sau\n",
        "1. xuất toàn chuỗi đã cho\n",
        "2. xuất tất cả các vị trí đã cho từ 4-7\n",
        "3. Hãy chuyển cái chuỗi đã cho thành cái chuỗi mới viết hoa toàn bộ kí tự mới\n",
        "4. Kiểm tra xem có kí tự a nào nằm trong chuỗi hay ko nếu có xuất ra màn hình số lượng của ký tự a trong chuỗi. Nếu ko xuất ra kí tự a ko ở trong chuỗi đã cho\n",
        "5. Hãy sử dụng định dạng format chuỗi, để thêm một cái chuỗi mới nhập từ bàn phím của ng dùng.\n",
        "6. Hãy xuất ra màn hình một cái bảng danh sách các ký tự và vị trí index của nó trong cái chuỗi đã cho\n",
        "7. Hãy tách các chuỗi đã cho thành các chuỗi con\n"
      ]
    },
    {
      "cell_type": "markdown",
      "metadata": {
        "id": "U1eJeJBlnSoU"
      },
      "source": [
        "viết 1 chương trình python để kt tính hợp lệ mật khẩu từ bàn phím người dùng\n",
        "1. độ dài mật khẩu tối thiểu là 15 tối đa là 18\n",
        "2. có ít nhất 1 ký tự viết a-z\n",
        "3. có ít nhất 1 ký tự từ A-Z\n",
        "4. Có một ký tự đặc biệt nằm trong list sau [@ # $ &]\n",
        "5. Mật khẩu không được chứa mãng sau [quynh, nguyen, hai, anh, nhan]\n",
        "Lưu ý người dùng không thỏa điều kiện nào báo cho người dùng nhập lại\n",
        "\n",
        "A string is a sequence of characters. \n",
        "Xuất ra màn hình, xuất thứ tự chuỗi:\n",
        "- Hãy sử dụng phương pháp: in và not in để kiểm tra xem 1 hoặc 1 vài ký tự được nhập từ bàn phím có tồn tại trong chuỗi đã cho hay không.\n",
        "- Hãy thay thế, các A string thành chuỗi mới the string bằng phương pháp rì play. \n",
        "- Hãy sự dụng phương pháp format để xáo trộn các vị trí ở trong các chuỗi đã cho.\n",
        "- hãy xuất ra màn hình những ký tự từ vị trí số 6 đến số 2\n",
        "- hãy xuất ra màn hình các chuỗi ký tự: từ vị trí  1 đến 5, với bước nhảy là 3\n",
        "\n",
        "\n"
      ]
    },
    {
      "cell_type": "code",
      "metadata": {
        "id": "4DjsPUoOR7u8",
        "colab": {
          "base_uri": "https://localhost:8080/"
        },
        "outputId": "adb8ea3b-4302-448e-890f-247ca107cde0"
      },
      "source": [
        "print(\"========Chương Trình Kiểm Tra Tính Hợp Lệ Mật Khẩu==========\")"
      ],
      "execution_count": null,
      "outputs": [
        {
          "output_type": "stream",
          "name": "stdout",
          "text": [
            "========Chương Trình Kiểm Tra Tính Hợp Lệ Mật Khẩu==========\n"
          ]
        }
      ]
    },
    {
      "cell_type": "code",
      "metadata": {
        "id": "EF90Cjg_apCH",
        "colab": {
          "base_uri": "https://localhost:8080/"
        },
        "outputId": "721cb2aa-489a-4331-e11c-9f0eb3e6435a"
      },
      "source": [
        "import re\n",
        "value = []\n",
        "password=[x for x in input(\"Nhập mật khẩu: \").split(',')]\n",
        "\n",
        "for p in password:\n",
        "  if len(p)<15 or len(p)>18:\n",
        "    print(\"Mật khẩu có độ dài tối thiểu là 15 tối đa là 18\")\n",
        "    continue\n",
        "  else:\n",
        "    pass\n",
        "\n",
        "  if not re.search(\"[a-z]\",p):\n",
        "    print(\"Mật khẩu không có ký tự viết thường (a-z)\")\n",
        "    continue\n",
        "  elif not re.search(\"[A-Z]\",p):\n",
        "    print(\"Mật khẩu không có ký tự viết in hoa (A-Z)\")\n",
        "    continue\n",
        "  elif not re.search(\"[@#$&]\",p):\n",
        "    print(\"Mật khẩu không có ký tự đặt biệt (@ # $ &)\")\n",
        "    continue\n",
        "  elif re.search(\"[quynh, nguyen, hai, anh, nhan] \",p):\n",
        "    print(\"Mật khẩu chứa từ khóa trong chuỗi [quynh, nguyen, hai, anh, nhan]\")\n",
        "    continue\n",
        "  else:\n",
        "    print(\"Mật khẩu hợp lệ\")\n",
        "    pass\n",
        "value.append(p)\n",
        "print (\",\".join(value))\n"
      ],
      "execution_count": null,
      "outputs": [
        {
          "output_type": "stream",
          "name": "stdout",
          "text": [
            "Nhập mật khẩu: asdfghjklAsddsf@\n",
            "Mật khẩu hợp lệ\n",
            "asdfghjklAsddsf@\n"
          ]
        }
      ]
    },
    {
      "cell_type": "code",
      "metadata": {
        "id": "bW_EOw2nv6Dp"
      },
      "source": [
        "chuoi = input(\"Nhập chuỗi của bạn:\")\n"
      ],
      "execution_count": null,
      "outputs": []
    }
  ]
}