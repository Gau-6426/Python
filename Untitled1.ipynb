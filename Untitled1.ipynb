{
  "nbformat": 4,
  "nbformat_minor": 0,
  "metadata": {
    "colab": {
      "name": "Untitled1.ipynb",
      "provenance": [],
      "authorship_tag": "ABX9TyNfmDX73qQGQTcQE5Qxefkh",
      "include_colab_link": true
    },
    "kernelspec": {
      "name": "python3",
      "display_name": "Python 3"
    },
    "language_info": {
      "name": "python"
    }
  },
  "cells": [
    {
      "cell_type": "markdown",
      "metadata": {
        "id": "view-in-github",
        "colab_type": "text"
      },
      "source": [
        "<a href=\"https://colab.research.google.com/github/Gau-6426/Python/blob/main/Untitled1.ipynb\" target=\"_parent\"><img src=\"https://colab.research.google.com/assets/colab-badge.svg\" alt=\"Open In Colab\"/></a>"
      ]
    },
    {
      "cell_type": "code",
      "metadata": {
        "colab": {
          "base_uri": "https://localhost:8080/"
        },
        "id": "eT-S8ljPXeTQ",
        "outputId": "65ff258b-5581-4267-deaf-9e1d7e024a8c"
      },
      "source": [
        "print(\"hello work\")"
      ],
      "execution_count": null,
      "outputs": [
        {
          "output_type": "stream",
          "name": "stdout",
          "text": [
            "hello work\n"
          ]
        }
      ]
    },
    {
      "cell_type": "markdown",
      "metadata": {
        "id": "s5iD1CKcXk7h"
      },
      "source": [
        "Cho một chuỗi sau \"Welcome to Vietnam\"\n",
        "Hãy viết chương trình Python thực hiện các chương trình sau\n",
        "1. xuất toàn chuỗi đã cho\n",
        "2. xuất tất cả các vị trí đã cho từ 4-7\n",
        "3. Hãy chuyển cái chuỗi đã cho thành cái chuỗi mới viết hoa toàn bộ kí tự mới\n",
        "4. Kiểm tra xem có kí tự a nào nằm trong chuỗi hay ko nếu có xuất ra màn hình số lượng của ký tự a trong chuỗi. Nếu ko xuất ra kí tự a ko ở trong chuỗi đã cho\n",
        "5. Hãy sử dụng định dạng format chuỗi, để thêm một cái chuỗi mới nhập từ bàn phím của ng dùng.\n",
        "6. Hãy xuất ra màn hình một cái bảng danh sách các ký tự và vị trí index của nó trong cái chuỗi đã cho\n",
        "7. Hãy tách các chuỗi đã cho thành các chuỗi con\n"
      ]
    },
    {
      "cell_type": "code",
      "metadata": {
        "colab": {
          "base_uri": "https://localhost:8080/"
        },
        "id": "J9TG1x5ZXlVE",
        "outputId": "89f19d32-4e51-41c5-ab5a-e3afd54dd07a"
      },
      "source": [
        "string=\"Welcome to Vietnam\"\n",
        "\n",
        "#xuất toàn chuỗi đã cho\n",
        "print(string[:])"
      ],
      "execution_count": 2,
      "outputs": [
        {
          "output_type": "stream",
          "name": "stdout",
          "text": [
            "Welcome to Vietnam {}\n"
          ]
        }
      ]
    },
    {
      "cell_type": "code",
      "metadata": {
        "colab": {
          "base_uri": "https://localhost:8080/"
        },
        "id": "kObekc7ye5HB",
        "outputId": "443d1199-1d1a-4a26-ac33-c3248981626b"
      },
      "source": [
        "#xuất tất cả các vị trí đã cho từ 4-7\n",
        "print(string[4:7])"
      ],
      "execution_count": null,
      "outputs": [
        {
          "output_type": "stream",
          "name": "stdout",
          "text": [
            "ome\n"
          ]
        }
      ]
    },
    {
      "cell_type": "code",
      "metadata": {
        "colab": {
          "base_uri": "https://localhost:8080/"
        },
        "id": "3HWfYQ1RfZgC",
        "outputId": "3605b123-ff2f-4127-dd59-c85dff2ea2ec"
      },
      "source": [
        "#Hãy chuyển cái chuỗi đã cho thành cái chuỗi mới viết hoa toàn bộ kí tự mới\n",
        "print(string.upper())"
      ],
      "execution_count": null,
      "outputs": [
        {
          "output_type": "stream",
          "name": "stdout",
          "text": [
            "WELCOME TO VIETNAM {}\n"
          ]
        }
      ]
    },
    {
      "cell_type": "code",
      "metadata": {
        "colab": {
          "base_uri": "https://localhost:8080/"
        },
        "id": "xYElJUVhf5rx",
        "outputId": "5efd83b9-2f0c-4230-f81f-2567c21cfbaa"
      },
      "source": [
        "#Kiểm tra xem có kí tự a nào nằm trong chuỗi hay ko nếu có xuất ra màn hình số lượng của ký tự a trong chuỗi. Nếu ko xuất ra kí tự a ko ở trong chuỗi đã cho\n",
        "x = input(\"Nhập kí tự muốn tìm:\")\n",
        "if x in string:\n",
        "  print(\"Ký tự có nằm trong chuỗi / Số lượng : \"+str (len('a')))\n",
        "else:\n",
        "  print(\"Không có ký tự này trong chuỗi:\")"
      ],
      "execution_count": null,
      "outputs": [
        {
          "output_type": "stream",
          "name": "stdout",
          "text": [
            "Số lượng : 1\n"
          ]
        }
      ]
    },
    {
      "cell_type": "code",
      "metadata": {
        "colab": {
          "base_uri": "https://localhost:8080/"
        },
        "id": "6BUI4rKLiwv1",
        "outputId": "3dcbc49b-93e8-40e7-b4a6-1002c4abfeee"
      },
      "source": [
        "#Hãy sử dụng định dạng format chuỗi, để thêm một cái chuỗi mới nhập từ bàn phím của ng dùng.\n",
        "string=\"Welcome to Vietnam {}\"\n",
        "print(string.format(input(\"Nhập chuỗi mới:\")))\n",
        "\n"
      ],
      "execution_count": 7,
      "outputs": [
        {
          "output_type": "stream",
          "name": "stdout",
          "text": [
            "Nhập chuỗi mới:, information\n",
            "Welcome to Vietnam , information\n"
          ]
        }
      ]
    },
    {
      "cell_type": "code",
      "metadata": {
        "id": "R5ukdww3aBCm",
        "outputId": "62285e39-c0ae-4dee-b383-0564af05250f",
        "colab": {
          "base_uri": "https://localhost:8080/"
        }
      },
      "source": [
        "#Hãy xuất ra màn hình một cái bảng danh sách các ký tự và vị trí index của nó trong cái chuỗi đã cho\n",
        "for kytu in string:\n",
        "  print(\"kí tự : \",kytu)\n",
        "print(\"fnishh\")"
      ],
      "execution_count": 22,
      "outputs": [
        {
          "output_type": "stream",
          "name": "stdout",
          "text": [
            "kí tự :  W\n",
            "kí tự :  e\n",
            "kí tự :  l\n",
            "kí tự :  c\n",
            "kí tự :  o\n",
            "kí tự :  m\n",
            "kí tự :  e\n",
            "kí tự :   \n",
            "kí tự :  t\n",
            "kí tự :  o\n",
            "kí tự :   \n",
            "kí tự :  V\n",
            "kí tự :  i\n",
            "kí tự :  e\n",
            "kí tự :  t\n",
            "kí tự :  n\n",
            "kí tự :  a\n",
            "kí tự :  m\n",
            "kí tự :   \n",
            "kí tự :  {\n",
            "kí tự :  }\n",
            "fnishh\n"
          ]
        }
      ]
    },
    {
      "cell_type": "code",
      "metadata": {
        "id": "iPU2CMbab8vN",
        "outputId": "5ad2d44f-f8c6-4e03-a3c8-6ca90e5f7c7e",
        "colab": {
          "base_uri": "https://localhost:8080/"
        }
      },
      "source": [
        "#Hãy tách các chuỗi đã cho thành các chuỗi con\n",
        "string = \"Welcome to Vietnam\"\n",
        "print(string.splitlines())"
      ],
      "execution_count": 25,
      "outputs": [
        {
          "output_type": "stream",
          "name": "stdout",
          "text": [
            "['Welcome to Vietnam']\n"
          ]
        }
      ]
    },
    {
      "cell_type": "markdown",
      "metadata": {
        "id": "U1eJeJBlnSoU"
      },
      "source": [
        "viết 1 chương trình python để kt tính hợp lệ mật khẩu từ bàn phím người dùng\n",
        "1. độ dài mật khẩu tối thiểu là 15 tối đa là 18\n",
        "2. có ít nhất 1 ký tự viết a-z\n",
        "3. có ít nhất 1 ký tự từ A-Z\n",
        "4. Có một ký tự đặc biệt nằm trong list sau [@ # $ &]\n",
        "5. Mật khẩu không được chứa mãng sau [quynh, nguyen, hai, anh, nhan]\n",
        "Lưu ý người dùng không thỏa điều kiện nào báo cho người dùng nhập lại\n",
        "\n",
        "A string is a sequence of characters. \n",
        "Xuất ra màn hình,xuất thứ tự chuỗi, \n",
        "Hãy sử dụng phương pháp: in và not in để kiểm tra xem 1 hoặc 1 vài ký tự được nhập từ bàn phím có tồn tại trong chuỗi đã cho hay không.\n",
        "Hãy thay thế, các A string thành chuỗi mới the string bằng phương pháp rì play. Hãy sự dụng phương pháp format để xáo trộn các vị trí ở trong các chuỗi đã cho.\n",
        "hãy xuất ra màn hình những ký tự từ vị trí số 6 đến số 2\n",
        "hãy xuất ra màn hình các chuỗi ký tự: từ vị trí  1 đến 5, với bước nhảy là 3\n",
        "\n",
        "\n"
      ]
    }
  ]
}